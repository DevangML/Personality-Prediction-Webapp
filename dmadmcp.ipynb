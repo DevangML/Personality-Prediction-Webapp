{
 "cells": [
  {
   "cell_type": "code",
   "execution_count": 39,
   "metadata": {},
   "outputs": [],
   "source": [
    "import pandas as pd"
   ]
  },
  {
   "cell_type": "markdown",
   "metadata": {},
   "source": [
    "In[22]:"
   ]
  },
  {
   "cell_type": "code",
   "execution_count": 40,
   "metadata": {},
   "outputs": [
    {
     "data": {
      "text/html": [
       "<div>\n",
       "<style scoped>\n",
       "    .dataframe tbody tr th:only-of-type {\n",
       "        vertical-align: middle;\n",
       "    }\n",
       "\n",
       "    .dataframe tbody tr th {\n",
       "        vertical-align: top;\n",
       "    }\n",
       "\n",
       "    .dataframe thead th {\n",
       "        text-align: right;\n",
       "    }\n",
       "</style>\n",
       "<table border=\"1\" class=\"dataframe\">\n",
       "  <thead>\n",
       "    <tr style=\"text-align: right;\">\n",
       "      <th></th>\n",
       "      <th>gender</th>\n",
       "      <th>age</th>\n",
       "      <th>openness</th>\n",
       "      <th>neuroticism</th>\n",
       "      <th>conscientiousness</th>\n",
       "      <th>agreeableness</th>\n",
       "      <th>extraversion</th>\n",
       "      <th>personality</th>\n",
       "    </tr>\n",
       "  </thead>\n",
       "  <tbody>\n",
       "    <tr>\n",
       "      <th>0</th>\n",
       "      <td>Male</td>\n",
       "      <td>17</td>\n",
       "      <td>7</td>\n",
       "      <td>4</td>\n",
       "      <td>7</td>\n",
       "      <td>3</td>\n",
       "      <td>2</td>\n",
       "      <td>extraverted</td>\n",
       "    </tr>\n",
       "    <tr>\n",
       "      <th>1</th>\n",
       "      <td>Male</td>\n",
       "      <td>19</td>\n",
       "      <td>4</td>\n",
       "      <td>5</td>\n",
       "      <td>4</td>\n",
       "      <td>6</td>\n",
       "      <td>6</td>\n",
       "      <td>serious</td>\n",
       "    </tr>\n",
       "    <tr>\n",
       "      <th>2</th>\n",
       "      <td>Female</td>\n",
       "      <td>18</td>\n",
       "      <td>7</td>\n",
       "      <td>6</td>\n",
       "      <td>4</td>\n",
       "      <td>5</td>\n",
       "      <td>5</td>\n",
       "      <td>dependable</td>\n",
       "    </tr>\n",
       "    <tr>\n",
       "      <th>3</th>\n",
       "      <td>Female</td>\n",
       "      <td>22</td>\n",
       "      <td>5</td>\n",
       "      <td>6</td>\n",
       "      <td>7</td>\n",
       "      <td>4</td>\n",
       "      <td>3</td>\n",
       "      <td>extraverted</td>\n",
       "    </tr>\n",
       "    <tr>\n",
       "      <th>4</th>\n",
       "      <td>Female</td>\n",
       "      <td>19</td>\n",
       "      <td>7</td>\n",
       "      <td>4</td>\n",
       "      <td>6</td>\n",
       "      <td>5</td>\n",
       "      <td>4</td>\n",
       "      <td>lively</td>\n",
       "    </tr>\n",
       "    <tr>\n",
       "      <th>...</th>\n",
       "      <td>...</td>\n",
       "      <td>...</td>\n",
       "      <td>...</td>\n",
       "      <td>...</td>\n",
       "      <td>...</td>\n",
       "      <td>...</td>\n",
       "      <td>...</td>\n",
       "      <td>...</td>\n",
       "    </tr>\n",
       "    <tr>\n",
       "      <th>1019</th>\n",
       "      <td>Female</td>\n",
       "      <td>19</td>\n",
       "      <td>6</td>\n",
       "      <td>5</td>\n",
       "      <td>6</td>\n",
       "      <td>4</td>\n",
       "      <td>3</td>\n",
       "      <td>extraverted</td>\n",
       "    </tr>\n",
       "    <tr>\n",
       "      <th>1020</th>\n",
       "      <td>Male</td>\n",
       "      <td>18</td>\n",
       "      <td>2</td>\n",
       "      <td>5</td>\n",
       "      <td>8</td>\n",
       "      <td>3</td>\n",
       "      <td>7</td>\n",
       "      <td>dependable</td>\n",
       "    </tr>\n",
       "    <tr>\n",
       "      <th>1021</th>\n",
       "      <td>Male</td>\n",
       "      <td>18</td>\n",
       "      <td>7</td>\n",
       "      <td>5</td>\n",
       "      <td>6</td>\n",
       "      <td>2</td>\n",
       "      <td>7</td>\n",
       "      <td>serious</td>\n",
       "    </tr>\n",
       "    <tr>\n",
       "      <th>1022</th>\n",
       "      <td>Male</td>\n",
       "      <td>23</td>\n",
       "      <td>6</td>\n",
       "      <td>7</td>\n",
       "      <td>5</td>\n",
       "      <td>4</td>\n",
       "      <td>3</td>\n",
       "      <td>extraverted</td>\n",
       "    </tr>\n",
       "    <tr>\n",
       "      <th>1023</th>\n",
       "      <td>Female</td>\n",
       "      <td>18</td>\n",
       "      <td>5</td>\n",
       "      <td>7</td>\n",
       "      <td>3</td>\n",
       "      <td>5</td>\n",
       "      <td>6</td>\n",
       "      <td>extraverted</td>\n",
       "    </tr>\n",
       "  </tbody>\n",
       "</table>\n",
       "<p>1024 rows × 8 columns</p>\n",
       "</div>"
      ],
      "text/plain": [
       "      gender  age  openness  neuroticism  conscientiousness  agreeableness  \\\n",
       "0       Male   17         7            4                  7              3   \n",
       "1       Male   19         4            5                  4              6   \n",
       "2     Female   18         7            6                  4              5   \n",
       "3     Female   22         5            6                  7              4   \n",
       "4     Female   19         7            4                  6              5   \n",
       "...      ...  ...       ...          ...                ...            ...   \n",
       "1019  Female   19         6            5                  6              4   \n",
       "1020    Male   18         2            5                  8              3   \n",
       "1021    Male   18         7            5                  6              2   \n",
       "1022    Male   23         6            7                  5              4   \n",
       "1023  Female   18         5            7                  3              5   \n",
       "\n",
       "      extraversion  personality  \n",
       "0                2  extraverted  \n",
       "1                6      serious  \n",
       "2                5   dependable  \n",
       "3                3  extraverted  \n",
       "4                4       lively  \n",
       "...            ...          ...  \n",
       "1019             3  extraverted  \n",
       "1020             7   dependable  \n",
       "1021             7      serious  \n",
       "1022             3  extraverted  \n",
       "1023             6  extraverted  \n",
       "\n",
       "[1024 rows x 8 columns]"
      ]
     },
     "execution_count": 40,
     "metadata": {},
     "output_type": "execute_result"
    }
   ],
   "source": [
    "ds=pd.read_csv(\"dmcp.csv\")\n",
    "ds"
   ]
  },
  {
   "cell_type": "markdown",
   "metadata": {},
   "source": [
    "In[23]:"
   ]
  },
  {
   "cell_type": "code",
   "execution_count": 41,
   "metadata": {},
   "outputs": [
    {
     "data": {
      "text/html": [
       "<div>\n",
       "<style scoped>\n",
       "    .dataframe tbody tr th:only-of-type {\n",
       "        vertical-align: middle;\n",
       "    }\n",
       "\n",
       "    .dataframe tbody tr th {\n",
       "        vertical-align: top;\n",
       "    }\n",
       "\n",
       "    .dataframe thead th {\n",
       "        text-align: right;\n",
       "    }\n",
       "</style>\n",
       "<table border=\"1\" class=\"dataframe\">\n",
       "  <thead>\n",
       "    <tr style=\"text-align: right;\">\n",
       "      <th></th>\n",
       "      <th>age</th>\n",
       "      <th>openness</th>\n",
       "      <th>neuroticism</th>\n",
       "      <th>conscientiousness</th>\n",
       "      <th>agreeableness</th>\n",
       "      <th>extraversion</th>\n",
       "    </tr>\n",
       "  </thead>\n",
       "  <tbody>\n",
       "    <tr>\n",
       "      <th>count</th>\n",
       "      <td>1024.000000</td>\n",
       "      <td>1024.000000</td>\n",
       "      <td>1024.000000</td>\n",
       "      <td>1024.000000</td>\n",
       "      <td>1024.000000</td>\n",
       "      <td>1024.000000</td>\n",
       "    </tr>\n",
       "    <tr>\n",
       "      <th>mean</th>\n",
       "      <td>19.857422</td>\n",
       "      <td>4.967773</td>\n",
       "      <td>4.627930</td>\n",
       "      <td>4.695312</td>\n",
       "      <td>4.833008</td>\n",
       "      <td>4.568359</td>\n",
       "    </tr>\n",
       "    <tr>\n",
       "      <th>std</th>\n",
       "      <td>2.555577</td>\n",
       "      <td>1.525904</td>\n",
       "      <td>1.708824</td>\n",
       "      <td>1.730339</td>\n",
       "      <td>1.658664</td>\n",
       "      <td>1.554866</td>\n",
       "    </tr>\n",
       "    <tr>\n",
       "      <th>min</th>\n",
       "      <td>5.000000</td>\n",
       "      <td>1.000000</td>\n",
       "      <td>1.000000</td>\n",
       "      <td>1.000000</td>\n",
       "      <td>1.000000</td>\n",
       "      <td>1.000000</td>\n",
       "    </tr>\n",
       "    <tr>\n",
       "      <th>25%</th>\n",
       "      <td>18.000000</td>\n",
       "      <td>4.000000</td>\n",
       "      <td>4.000000</td>\n",
       "      <td>3.000000</td>\n",
       "      <td>4.000000</td>\n",
       "      <td>4.000000</td>\n",
       "    </tr>\n",
       "    <tr>\n",
       "      <th>50%</th>\n",
       "      <td>19.000000</td>\n",
       "      <td>5.000000</td>\n",
       "      <td>5.000000</td>\n",
       "      <td>5.000000</td>\n",
       "      <td>5.000000</td>\n",
       "      <td>5.000000</td>\n",
       "    </tr>\n",
       "    <tr>\n",
       "      <th>75%</th>\n",
       "      <td>21.000000</td>\n",
       "      <td>6.000000</td>\n",
       "      <td>6.000000</td>\n",
       "      <td>6.000000</td>\n",
       "      <td>6.000000</td>\n",
       "      <td>6.000000</td>\n",
       "    </tr>\n",
       "    <tr>\n",
       "      <th>max</th>\n",
       "      <td>28.000000</td>\n",
       "      <td>8.000000</td>\n",
       "      <td>9.000000</td>\n",
       "      <td>9.000000</td>\n",
       "      <td>8.000000</td>\n",
       "      <td>8.000000</td>\n",
       "    </tr>\n",
       "  </tbody>\n",
       "</table>\n",
       "</div>"
      ],
      "text/plain": [
       "               age     openness  neuroticism  conscientiousness  \\\n",
       "count  1024.000000  1024.000000  1024.000000        1024.000000   \n",
       "mean     19.857422     4.967773     4.627930           4.695312   \n",
       "std       2.555577     1.525904     1.708824           1.730339   \n",
       "min       5.000000     1.000000     1.000000           1.000000   \n",
       "25%      18.000000     4.000000     4.000000           3.000000   \n",
       "50%      19.000000     5.000000     5.000000           5.000000   \n",
       "75%      21.000000     6.000000     6.000000           6.000000   \n",
       "max      28.000000     8.000000     9.000000           9.000000   \n",
       "\n",
       "       agreeableness  extraversion  \n",
       "count    1024.000000   1024.000000  \n",
       "mean        4.833008      4.568359  \n",
       "std         1.658664      1.554866  \n",
       "min         1.000000      1.000000  \n",
       "25%         4.000000      4.000000  \n",
       "50%         5.000000      5.000000  \n",
       "75%         6.000000      6.000000  \n",
       "max         8.000000      8.000000  "
      ]
     },
     "execution_count": 41,
     "metadata": {},
     "output_type": "execute_result"
    }
   ],
   "source": [
    "ds.describe()"
   ]
  },
  {
   "cell_type": "markdown",
   "metadata": {},
   "source": [
    "In[24]:"
   ]
  },
  {
   "cell_type": "code",
   "execution_count": 42,
   "metadata": {},
   "outputs": [
    {
     "data": {
      "text/html": [
       "<div>\n",
       "<style scoped>\n",
       "    .dataframe tbody tr th:only-of-type {\n",
       "        vertical-align: middle;\n",
       "    }\n",
       "\n",
       "    .dataframe tbody tr th {\n",
       "        vertical-align: top;\n",
       "    }\n",
       "\n",
       "    .dataframe thead th {\n",
       "        text-align: right;\n",
       "    }\n",
       "</style>\n",
       "<table border=\"1\" class=\"dataframe\">\n",
       "  <thead>\n",
       "    <tr style=\"text-align: right;\">\n",
       "      <th></th>\n",
       "      <th>5</th>\n",
       "      <th>Female</th>\n",
       "      <th>Male</th>\n",
       "    </tr>\n",
       "  </thead>\n",
       "  <tbody>\n",
       "    <tr>\n",
       "      <th>0</th>\n",
       "      <td>0</td>\n",
       "      <td>0</td>\n",
       "      <td>1</td>\n",
       "    </tr>\n",
       "    <tr>\n",
       "      <th>1</th>\n",
       "      <td>0</td>\n",
       "      <td>0</td>\n",
       "      <td>1</td>\n",
       "    </tr>\n",
       "    <tr>\n",
       "      <th>2</th>\n",
       "      <td>0</td>\n",
       "      <td>1</td>\n",
       "      <td>0</td>\n",
       "    </tr>\n",
       "    <tr>\n",
       "      <th>3</th>\n",
       "      <td>0</td>\n",
       "      <td>1</td>\n",
       "      <td>0</td>\n",
       "    </tr>\n",
       "    <tr>\n",
       "      <th>4</th>\n",
       "      <td>0</td>\n",
       "      <td>1</td>\n",
       "      <td>0</td>\n",
       "    </tr>\n",
       "    <tr>\n",
       "      <th>...</th>\n",
       "      <td>...</td>\n",
       "      <td>...</td>\n",
       "      <td>...</td>\n",
       "    </tr>\n",
       "    <tr>\n",
       "      <th>1019</th>\n",
       "      <td>0</td>\n",
       "      <td>1</td>\n",
       "      <td>0</td>\n",
       "    </tr>\n",
       "    <tr>\n",
       "      <th>1020</th>\n",
       "      <td>0</td>\n",
       "      <td>0</td>\n",
       "      <td>1</td>\n",
       "    </tr>\n",
       "    <tr>\n",
       "      <th>1021</th>\n",
       "      <td>0</td>\n",
       "      <td>0</td>\n",
       "      <td>1</td>\n",
       "    </tr>\n",
       "    <tr>\n",
       "      <th>1022</th>\n",
       "      <td>0</td>\n",
       "      <td>0</td>\n",
       "      <td>1</td>\n",
       "    </tr>\n",
       "    <tr>\n",
       "      <th>1023</th>\n",
       "      <td>0</td>\n",
       "      <td>1</td>\n",
       "      <td>0</td>\n",
       "    </tr>\n",
       "  </tbody>\n",
       "</table>\n",
       "<p>1024 rows × 3 columns</p>\n",
       "</div>"
      ],
      "text/plain": [
       "      5  Female  Male\n",
       "0     0       0     1\n",
       "1     0       0     1\n",
       "2     0       1     0\n",
       "3     0       1     0\n",
       "4     0       1     0\n",
       "...  ..     ...   ...\n",
       "1019  0       1     0\n",
       "1020  0       0     1\n",
       "1021  0       0     1\n",
       "1022  0       0     1\n",
       "1023  0       1     0\n",
       "\n",
       "[1024 rows x 3 columns]"
      ]
     },
     "execution_count": 42,
     "metadata": {},
     "output_type": "execute_result"
    }
   ],
   "source": [
    "gen=pd.get_dummies(ds.gender).iloc[:,:]\n",
    "gen"
   ]
  },
  {
   "cell_type": "markdown",
   "metadata": {},
   "source": [
    "In[25]:"
   ]
  },
  {
   "cell_type": "code",
   "execution_count": 43,
   "metadata": {},
   "outputs": [],
   "source": [
    "temp=ds.drop(['gender'],axis=1)"
   ]
  },
  {
   "cell_type": "markdown",
   "metadata": {},
   "source": [
    "In[26]:"
   ]
  },
  {
   "cell_type": "code",
   "execution_count": 44,
   "metadata": {},
   "outputs": [
    {
     "data": {
      "text/html": [
       "<div>\n",
       "<style scoped>\n",
       "    .dataframe tbody tr th:only-of-type {\n",
       "        vertical-align: middle;\n",
       "    }\n",
       "\n",
       "    .dataframe tbody tr th {\n",
       "        vertical-align: top;\n",
       "    }\n",
       "\n",
       "    .dataframe thead th {\n",
       "        text-align: right;\n",
       "    }\n",
       "</style>\n",
       "<table border=\"1\" class=\"dataframe\">\n",
       "  <thead>\n",
       "    <tr style=\"text-align: right;\">\n",
       "      <th></th>\n",
       "      <th>age</th>\n",
       "      <th>openness</th>\n",
       "      <th>neuroticism</th>\n",
       "      <th>conscientiousness</th>\n",
       "      <th>agreeableness</th>\n",
       "      <th>extraversion</th>\n",
       "      <th>personality</th>\n",
       "      <th>5</th>\n",
       "      <th>Female</th>\n",
       "      <th>Male</th>\n",
       "    </tr>\n",
       "  </thead>\n",
       "  <tbody>\n",
       "    <tr>\n",
       "      <th>0</th>\n",
       "      <td>17</td>\n",
       "      <td>7</td>\n",
       "      <td>4</td>\n",
       "      <td>7</td>\n",
       "      <td>3</td>\n",
       "      <td>2</td>\n",
       "      <td>extraverted</td>\n",
       "      <td>0</td>\n",
       "      <td>0</td>\n",
       "      <td>1</td>\n",
       "    </tr>\n",
       "    <tr>\n",
       "      <th>1</th>\n",
       "      <td>19</td>\n",
       "      <td>4</td>\n",
       "      <td>5</td>\n",
       "      <td>4</td>\n",
       "      <td>6</td>\n",
       "      <td>6</td>\n",
       "      <td>serious</td>\n",
       "      <td>0</td>\n",
       "      <td>0</td>\n",
       "      <td>1</td>\n",
       "    </tr>\n",
       "    <tr>\n",
       "      <th>2</th>\n",
       "      <td>18</td>\n",
       "      <td>7</td>\n",
       "      <td>6</td>\n",
       "      <td>4</td>\n",
       "      <td>5</td>\n",
       "      <td>5</td>\n",
       "      <td>dependable</td>\n",
       "      <td>0</td>\n",
       "      <td>1</td>\n",
       "      <td>0</td>\n",
       "    </tr>\n",
       "    <tr>\n",
       "      <th>3</th>\n",
       "      <td>22</td>\n",
       "      <td>5</td>\n",
       "      <td>6</td>\n",
       "      <td>7</td>\n",
       "      <td>4</td>\n",
       "      <td>3</td>\n",
       "      <td>extraverted</td>\n",
       "      <td>0</td>\n",
       "      <td>1</td>\n",
       "      <td>0</td>\n",
       "    </tr>\n",
       "    <tr>\n",
       "      <th>4</th>\n",
       "      <td>19</td>\n",
       "      <td>7</td>\n",
       "      <td>4</td>\n",
       "      <td>6</td>\n",
       "      <td>5</td>\n",
       "      <td>4</td>\n",
       "      <td>lively</td>\n",
       "      <td>0</td>\n",
       "      <td>1</td>\n",
       "      <td>0</td>\n",
       "    </tr>\n",
       "  </tbody>\n",
       "</table>\n",
       "</div>"
      ],
      "text/plain": [
       "   age  openness  neuroticism  conscientiousness  agreeableness  extraversion  \\\n",
       "0   17         7            4                  7              3             2   \n",
       "1   19         4            5                  4              6             6   \n",
       "2   18         7            6                  4              5             5   \n",
       "3   22         5            6                  7              4             3   \n",
       "4   19         7            4                  6              5             4   \n",
       "\n",
       "   personality  5  Female  Male  \n",
       "0  extraverted  0       0     1  \n",
       "1      serious  0       0     1  \n",
       "2   dependable  0       1     0  \n",
       "3  extraverted  0       1     0  \n",
       "4       lively  0       1     0  "
      ]
     },
     "execution_count": 44,
     "metadata": {},
     "output_type": "execute_result"
    }
   ],
   "source": [
    "ds=pd.concat([temp,gen], axis=1)\n",
    "ds.head()"
   ]
  },
  {
   "cell_type": "markdown",
   "metadata": {},
   "source": [
    "In[27]:"
   ]
  },
  {
   "cell_type": "code",
   "execution_count": 45,
   "metadata": {},
   "outputs": [
    {
     "data": {
      "text/html": [
       "<div>\n",
       "<style scoped>\n",
       "    .dataframe tbody tr th:only-of-type {\n",
       "        vertical-align: middle;\n",
       "    }\n",
       "\n",
       "    .dataframe tbody tr th {\n",
       "        vertical-align: top;\n",
       "    }\n",
       "\n",
       "    .dataframe thead th {\n",
       "        text-align: right;\n",
       "    }\n",
       "</style>\n",
       "<table border=\"1\" class=\"dataframe\">\n",
       "  <thead>\n",
       "    <tr style=\"text-align: right;\">\n",
       "      <th></th>\n",
       "      <th>age</th>\n",
       "      <th>openness</th>\n",
       "      <th>neuroticism</th>\n",
       "      <th>conscientiousness</th>\n",
       "      <th>agreeableness</th>\n",
       "      <th>extraversion</th>\n",
       "      <th>personality</th>\n",
       "      <th>Female</th>\n",
       "      <th>Male</th>\n",
       "    </tr>\n",
       "  </thead>\n",
       "  <tbody>\n",
       "    <tr>\n",
       "      <th>0</th>\n",
       "      <td>17</td>\n",
       "      <td>7</td>\n",
       "      <td>4</td>\n",
       "      <td>7</td>\n",
       "      <td>3</td>\n",
       "      <td>2</td>\n",
       "      <td>extraverted</td>\n",
       "      <td>0</td>\n",
       "      <td>1</td>\n",
       "    </tr>\n",
       "    <tr>\n",
       "      <th>1</th>\n",
       "      <td>19</td>\n",
       "      <td>4</td>\n",
       "      <td>5</td>\n",
       "      <td>4</td>\n",
       "      <td>6</td>\n",
       "      <td>6</td>\n",
       "      <td>serious</td>\n",
       "      <td>0</td>\n",
       "      <td>1</td>\n",
       "    </tr>\n",
       "    <tr>\n",
       "      <th>2</th>\n",
       "      <td>18</td>\n",
       "      <td>7</td>\n",
       "      <td>6</td>\n",
       "      <td>4</td>\n",
       "      <td>5</td>\n",
       "      <td>5</td>\n",
       "      <td>dependable</td>\n",
       "      <td>1</td>\n",
       "      <td>0</td>\n",
       "    </tr>\n",
       "    <tr>\n",
       "      <th>3</th>\n",
       "      <td>22</td>\n",
       "      <td>5</td>\n",
       "      <td>6</td>\n",
       "      <td>7</td>\n",
       "      <td>4</td>\n",
       "      <td>3</td>\n",
       "      <td>extraverted</td>\n",
       "      <td>1</td>\n",
       "      <td>0</td>\n",
       "    </tr>\n",
       "    <tr>\n",
       "      <th>4</th>\n",
       "      <td>19</td>\n",
       "      <td>7</td>\n",
       "      <td>4</td>\n",
       "      <td>6</td>\n",
       "      <td>5</td>\n",
       "      <td>4</td>\n",
       "      <td>lively</td>\n",
       "      <td>1</td>\n",
       "      <td>0</td>\n",
       "    </tr>\n",
       "    <tr>\n",
       "      <th>...</th>\n",
       "      <td>...</td>\n",
       "      <td>...</td>\n",
       "      <td>...</td>\n",
       "      <td>...</td>\n",
       "      <td>...</td>\n",
       "      <td>...</td>\n",
       "      <td>...</td>\n",
       "      <td>...</td>\n",
       "      <td>...</td>\n",
       "    </tr>\n",
       "    <tr>\n",
       "      <th>1019</th>\n",
       "      <td>19</td>\n",
       "      <td>6</td>\n",
       "      <td>5</td>\n",
       "      <td>6</td>\n",
       "      <td>4</td>\n",
       "      <td>3</td>\n",
       "      <td>extraverted</td>\n",
       "      <td>1</td>\n",
       "      <td>0</td>\n",
       "    </tr>\n",
       "    <tr>\n",
       "      <th>1020</th>\n",
       "      <td>18</td>\n",
       "      <td>2</td>\n",
       "      <td>5</td>\n",
       "      <td>8</td>\n",
       "      <td>3</td>\n",
       "      <td>7</td>\n",
       "      <td>dependable</td>\n",
       "      <td>0</td>\n",
       "      <td>1</td>\n",
       "    </tr>\n",
       "    <tr>\n",
       "      <th>1021</th>\n",
       "      <td>18</td>\n",
       "      <td>7</td>\n",
       "      <td>5</td>\n",
       "      <td>6</td>\n",
       "      <td>2</td>\n",
       "      <td>7</td>\n",
       "      <td>serious</td>\n",
       "      <td>0</td>\n",
       "      <td>1</td>\n",
       "    </tr>\n",
       "    <tr>\n",
       "      <th>1022</th>\n",
       "      <td>23</td>\n",
       "      <td>6</td>\n",
       "      <td>7</td>\n",
       "      <td>5</td>\n",
       "      <td>4</td>\n",
       "      <td>3</td>\n",
       "      <td>extraverted</td>\n",
       "      <td>0</td>\n",
       "      <td>1</td>\n",
       "    </tr>\n",
       "    <tr>\n",
       "      <th>1023</th>\n",
       "      <td>18</td>\n",
       "      <td>5</td>\n",
       "      <td>7</td>\n",
       "      <td>3</td>\n",
       "      <td>5</td>\n",
       "      <td>6</td>\n",
       "      <td>extraverted</td>\n",
       "      <td>1</td>\n",
       "      <td>0</td>\n",
       "    </tr>\n",
       "  </tbody>\n",
       "</table>\n",
       "<p>1024 rows × 9 columns</p>\n",
       "</div>"
      ],
      "text/plain": [
       "      age  openness  neuroticism  conscientiousness  agreeableness  \\\n",
       "0      17         7            4                  7              3   \n",
       "1      19         4            5                  4              6   \n",
       "2      18         7            6                  4              5   \n",
       "3      22         5            6                  7              4   \n",
       "4      19         7            4                  6              5   \n",
       "...   ...       ...          ...                ...            ...   \n",
       "1019   19         6            5                  6              4   \n",
       "1020   18         2            5                  8              3   \n",
       "1021   18         7            5                  6              2   \n",
       "1022   23         6            7                  5              4   \n",
       "1023   18         5            7                  3              5   \n",
       "\n",
       "      extraversion  personality  Female  Male  \n",
       "0                2  extraverted       0     1  \n",
       "1                6      serious       0     1  \n",
       "2                5   dependable       1     0  \n",
       "3                3  extraverted       1     0  \n",
       "4                4       lively       1     0  \n",
       "...            ...          ...     ...   ...  \n",
       "1019             3  extraverted       1     0  \n",
       "1020             7   dependable       0     1  \n",
       "1021             7      serious       0     1  \n",
       "1022             3  extraverted       0     1  \n",
       "1023             6  extraverted       1     0  \n",
       "\n",
       "[1024 rows x 9 columns]"
      ]
     },
     "execution_count": 45,
     "metadata": {},
     "output_type": "execute_result"
    }
   ],
   "source": [
    "ex1=ds.drop(['5'],axis=1)\n",
    "ex1"
   ]
  },
  {
   "cell_type": "markdown",
   "metadata": {},
   "source": [
    "In[28]:"
   ]
  },
  {
   "cell_type": "code",
   "execution_count": 46,
   "metadata": {},
   "outputs": [],
   "source": [
    "dsf= ex1.drop(['personality'], axis=1)"
   ]
  },
  {
   "cell_type": "markdown",
   "metadata": {},
   "source": [
    "In[29]:"
   ]
  },
  {
   "cell_type": "code",
   "execution_count": 47,
   "metadata": {},
   "outputs": [
    {
     "data": {
      "text/plain": [
       "0       extraverted\n",
       "1           serious\n",
       "2        dependable\n",
       "3       extraverted\n",
       "4            lively\n",
       "           ...     \n",
       "1019    extraverted\n",
       "1020     dependable\n",
       "1021        serious\n",
       "1022    extraverted\n",
       "1023    extraverted\n",
       "Name: personality, Length: 1024, dtype: object"
      ]
     },
     "execution_count": 47,
     "metadata": {},
     "output_type": "execute_result"
    }
   ],
   "source": [
    "dsl=ds['personality']\n",
    "dsl"
   ]
  },
  {
   "cell_type": "markdown",
   "metadata": {},
   "source": [
    "In[30]:"
   ]
  },
  {
   "cell_type": "code",
   "execution_count": 48,
   "metadata": {},
   "outputs": [],
   "source": [
    "from sklearn.model_selection import train_test_split"
   ]
  },
  {
   "cell_type": "markdown",
   "metadata": {},
   "source": [
    "In[31]:"
   ]
  },
  {
   "cell_type": "code",
   "execution_count": 49,
   "metadata": {},
   "outputs": [],
   "source": [
    "train_features, test_features, train_labels, test_labels = train_test_split(dsf, dsl, test_size=0.3, random_state=21)"
   ]
  },
  {
   "cell_type": "markdown",
   "metadata": {},
   "source": [
    "In[32]:"
   ]
  },
  {
   "cell_type": "code",
   "execution_count": 50,
   "metadata": {},
   "outputs": [],
   "source": [
    "from sklearn.linear_model import LogisticRegression"
   ]
  },
  {
   "cell_type": "markdown",
   "metadata": {},
   "source": [
    "In[33]:"
   ]
  },
  {
   "cell_type": "code",
   "execution_count": 51,
   "metadata": {},
   "outputs": [],
   "source": [
    "lr=LogisticRegression()"
   ]
  },
  {
   "cell_type": "markdown",
   "metadata": {},
   "source": [
    "In[35]:"
   ]
  },
  {
   "cell_type": "code",
   "execution_count": 52,
   "metadata": {},
   "outputs": [
    {
     "name": "stderr",
     "output_type": "stream",
     "text": [
      "c:\\Python310\\lib\\site-packages\\sklearn\\linear_model\\_logistic.py:444: ConvergenceWarning: lbfgs failed to converge (status=1):\n",
      "STOP: TOTAL NO. of ITERATIONS REACHED LIMIT.\n",
      "\n",
      "Increase the number of iterations (max_iter) or scale the data as shown in:\n",
      "    https://scikit-learn.org/stable/modules/preprocessing.html\n",
      "Please also refer to the documentation for alternative solver options:\n",
      "    https://scikit-learn.org/stable/modules/linear_model.html#logistic-regression\n",
      "  n_iter_i = _check_optimize_result(\n"
     ]
    },
    {
     "data": {
      "text/html": [
       "<style>#sk-container-id-1 {color: black;background-color: white;}#sk-container-id-1 pre{padding: 0;}#sk-container-id-1 div.sk-toggleable {background-color: white;}#sk-container-id-1 label.sk-toggleable__label {cursor: pointer;display: block;width: 100%;margin-bottom: 0;padding: 0.3em;box-sizing: border-box;text-align: center;}#sk-container-id-1 label.sk-toggleable__label-arrow:before {content: \"▸\";float: left;margin-right: 0.25em;color: #696969;}#sk-container-id-1 label.sk-toggleable__label-arrow:hover:before {color: black;}#sk-container-id-1 div.sk-estimator:hover label.sk-toggleable__label-arrow:before {color: black;}#sk-container-id-1 div.sk-toggleable__content {max-height: 0;max-width: 0;overflow: hidden;text-align: left;background-color: #f0f8ff;}#sk-container-id-1 div.sk-toggleable__content pre {margin: 0.2em;color: black;border-radius: 0.25em;background-color: #f0f8ff;}#sk-container-id-1 input.sk-toggleable__control:checked~div.sk-toggleable__content {max-height: 200px;max-width: 100%;overflow: auto;}#sk-container-id-1 input.sk-toggleable__control:checked~label.sk-toggleable__label-arrow:before {content: \"▾\";}#sk-container-id-1 div.sk-estimator input.sk-toggleable__control:checked~label.sk-toggleable__label {background-color: #d4ebff;}#sk-container-id-1 div.sk-label input.sk-toggleable__control:checked~label.sk-toggleable__label {background-color: #d4ebff;}#sk-container-id-1 input.sk-hidden--visually {border: 0;clip: rect(1px 1px 1px 1px);clip: rect(1px, 1px, 1px, 1px);height: 1px;margin: -1px;overflow: hidden;padding: 0;position: absolute;width: 1px;}#sk-container-id-1 div.sk-estimator {font-family: monospace;background-color: #f0f8ff;border: 1px dotted black;border-radius: 0.25em;box-sizing: border-box;margin-bottom: 0.5em;}#sk-container-id-1 div.sk-estimator:hover {background-color: #d4ebff;}#sk-container-id-1 div.sk-parallel-item::after {content: \"\";width: 100%;border-bottom: 1px solid gray;flex-grow: 1;}#sk-container-id-1 div.sk-label:hover label.sk-toggleable__label {background-color: #d4ebff;}#sk-container-id-1 div.sk-serial::before {content: \"\";position: absolute;border-left: 1px solid gray;box-sizing: border-box;top: 0;bottom: 0;left: 50%;z-index: 0;}#sk-container-id-1 div.sk-serial {display: flex;flex-direction: column;align-items: center;background-color: white;padding-right: 0.2em;padding-left: 0.2em;position: relative;}#sk-container-id-1 div.sk-item {position: relative;z-index: 1;}#sk-container-id-1 div.sk-parallel {display: flex;align-items: stretch;justify-content: center;background-color: white;position: relative;}#sk-container-id-1 div.sk-item::before, #sk-container-id-1 div.sk-parallel-item::before {content: \"\";position: absolute;border-left: 1px solid gray;box-sizing: border-box;top: 0;bottom: 0;left: 50%;z-index: -1;}#sk-container-id-1 div.sk-parallel-item {display: flex;flex-direction: column;z-index: 1;position: relative;background-color: white;}#sk-container-id-1 div.sk-parallel-item:first-child::after {align-self: flex-end;width: 50%;}#sk-container-id-1 div.sk-parallel-item:last-child::after {align-self: flex-start;width: 50%;}#sk-container-id-1 div.sk-parallel-item:only-child::after {width: 0;}#sk-container-id-1 div.sk-dashed-wrapped {border: 1px dashed gray;margin: 0 0.4em 0.5em 0.4em;box-sizing: border-box;padding-bottom: 0.4em;background-color: white;}#sk-container-id-1 div.sk-label label {font-family: monospace;font-weight: bold;display: inline-block;line-height: 1.2em;}#sk-container-id-1 div.sk-label-container {text-align: center;}#sk-container-id-1 div.sk-container {/* jupyter's `normalize.less` sets `[hidden] { display: none; }` but bootstrap.min.css set `[hidden] { display: none !important; }` so we also need the `!important` here to be able to override the default hidden behavior on the sphinx rendered scikit-learn.org. See: https://github.com/scikit-learn/scikit-learn/issues/21755 */display: inline-block !important;position: relative;}#sk-container-id-1 div.sk-text-repr-fallback {display: none;}</style><div id=\"sk-container-id-1\" class=\"sk-top-container\"><div class=\"sk-text-repr-fallback\"><pre>LogisticRegression()</pre><b>In a Jupyter environment, please rerun this cell to show the HTML representation or trust the notebook. <br />On GitHub, the HTML representation is unable to render, please try loading this page with nbviewer.org.</b></div><div class=\"sk-container\" hidden><div class=\"sk-item\"><div class=\"sk-estimator sk-toggleable\"><input class=\"sk-toggleable__control sk-hidden--visually\" id=\"sk-estimator-id-1\" type=\"checkbox\" checked><label for=\"sk-estimator-id-1\" class=\"sk-toggleable__label sk-toggleable__label-arrow\">LogisticRegression</label><div class=\"sk-toggleable__content\"><pre>LogisticRegression()</pre></div></div></div></div></div>"
      ],
      "text/plain": [
       "LogisticRegression()"
      ]
     },
     "execution_count": 52,
     "metadata": {},
     "output_type": "execute_result"
    }
   ],
   "source": [
    "lr.fit(train_features, train_labels)"
   ]
  },
  {
   "cell_type": "markdown",
   "metadata": {},
   "source": [
    "In[36]:"
   ]
  },
  {
   "cell_type": "code",
   "execution_count": 53,
   "metadata": {},
   "outputs": [],
   "source": [
    "a = lr.predict(test_features)"
   ]
  },
  {
   "cell_type": "code",
   "execution_count": 54,
   "metadata": {},
   "outputs": [
    {
     "name": "stdout",
     "output_type": "stream",
     "text": [
      "['extraverted' 'serious' 'serious' 'serious' 'serious' 'responsible'\n",
      " 'serious' 'responsible' 'serious' 'extraverted' 'serious' 'serious'\n",
      " 'extraverted' 'serious' 'serious' 'serious' 'serious' 'extraverted'\n",
      " 'extraverted' 'lively' 'responsible' 'serious' 'extraverted' 'serious'\n",
      " 'serious' 'serious' 'serious' 'serious' 'serious' 'extraverted' 'serious'\n",
      " 'serious' 'responsible' 'serious' 'extraverted' 'serious' 'serious'\n",
      " 'extraverted' 'lively' 'serious' 'serious' 'serious' 'lively'\n",
      " 'extraverted' 'extraverted' 'serious' 'serious' 'serious' 'extraverted'\n",
      " 'dependable' 'serious' 'serious' 'extraverted' 'extraverted'\n",
      " 'extraverted' 'extraverted' 'serious' 'lively' 'serious' 'extraverted'\n",
      " 'serious' 'serious' 'serious' 'serious' 'serious' 'extraverted'\n",
      " 'extraverted' 'serious' 'responsible' 'serious' 'serious' 'serious'\n",
      " 'extraverted' 'serious' 'serious' 'extraverted' 'extraverted'\n",
      " 'extraverted' 'serious' 'serious' 'serious' 'serious' 'extraverted'\n",
      " 'serious' 'serious' 'extraverted' 'serious' 'serious' 'serious'\n",
      " 'extraverted' 'extraverted' 'responsible' 'lively' 'serious' 'serious'\n",
      " 'extraverted' 'serious' 'extraverted' 'serious' 'lively' 'responsible'\n",
      " 'extraverted' 'serious' 'extraverted' 'lively' 'extraverted' 'serious'\n",
      " 'extraverted' 'serious' 'serious' 'extraverted' 'serious' 'responsible'\n",
      " 'serious' 'lively' 'serious' 'serious' 'extraverted' 'serious'\n",
      " 'extraverted' 'serious' 'extraverted' 'serious' 'serious' 'extraverted'\n",
      " 'serious' 'extraverted' 'serious' 'extraverted' 'extraverted'\n",
      " 'extraverted' 'extraverted' 'serious' 'extraverted' 'serious'\n",
      " 'extraverted' 'lively' 'responsible' 'serious' 'serious' 'serious'\n",
      " 'serious' 'serious' 'responsible' 'responsible' 'serious' 'extraverted'\n",
      " 'responsible' 'serious' 'serious' 'extraverted' 'serious' 'serious'\n",
      " 'extraverted' 'extraverted' 'serious' 'lively' 'serious' 'serious'\n",
      " 'serious' 'serious' 'serious' 'extraverted' 'serious' 'serious'\n",
      " 'responsible' 'serious' 'serious' 'extraverted' 'extraverted' 'serious'\n",
      " 'responsible' 'extraverted' 'serious' 'serious' 'serious' 'lively'\n",
      " 'responsible' 'extraverted' 'lively' 'extraverted' 'serious'\n",
      " 'extraverted' 'serious' 'extraverted' 'serious' 'serious' 'lively'\n",
      " 'extraverted' 'serious' 'lively' 'serious' 'lively' 'lively'\n",
      " 'responsible' 'serious' 'extraverted' 'serious' 'extraverted' 'serious'\n",
      " 'responsible' 'serious' 'serious' 'serious' 'serious' 'responsible'\n",
      " 'extraverted' 'serious' 'serious' 'lively' 'extraverted' 'extraverted'\n",
      " 'serious' 'serious' 'serious' 'serious' 'responsible' 'lively'\n",
      " 'extraverted' 'extraverted' 'serious' 'serious' 'serious' 'serious'\n",
      " 'serious' 'extraverted' 'extraverted' 'extraverted' 'extraverted'\n",
      " 'responsible' 'serious' 'serious' 'serious' 'responsible' 'serious'\n",
      " 'extraverted' 'serious' 'lively' 'serious' 'extraverted' 'responsible'\n",
      " 'extraverted' 'lively' 'extraverted' 'responsible' 'serious' 'serious'\n",
      " 'serious' 'extraverted' 'extraverted' 'extraverted' 'serious' 'lively'\n",
      " 'serious' 'serious' 'serious' 'responsible' 'serious' 'serious'\n",
      " 'responsible' 'extraverted' 'serious' 'extraverted' 'serious'\n",
      " 'extraverted' 'extraverted' 'extraverted' 'extraverted' 'serious'\n",
      " 'serious' 'serious' 'serious' 'serious' 'lively' 'extraverted' 'lively'\n",
      " 'serious' 'lively' 'serious' 'extraverted' 'extraverted' 'serious'\n",
      " 'extraverted' 'serious' 'extraverted' 'serious' 'responsible' 'serious'\n",
      " 'serious' 'serious' 'serious' 'extraverted' 'serious' 'serious'\n",
      " 'extraverted' 'extraverted' 'serious' 'serious' 'responsible' 'serious'\n",
      " 'serious' 'extraverted' 'extraverted' 'serious' 'lively' 'serious'\n",
      " 'serious' 'lively']\n"
     ]
    }
   ],
   "source": [
    "print(a)"
   ]
  },
  {
   "cell_type": "markdown",
   "metadata": {},
   "source": [
    "In[37]:"
   ]
  },
  {
   "cell_type": "code",
   "execution_count": 55,
   "metadata": {},
   "outputs": [
    {
     "name": "stdout",
     "output_type": "stream",
     "text": [
      "['extraverted']\n"
     ]
    },
    {
     "name": "stderr",
     "output_type": "stream",
     "text": [
      "c:\\Python310\\lib\\site-packages\\sklearn\\base.py:450: UserWarning: X does not have valid feature names, but LogisticRegression was fitted with feature names\n",
      "  warnings.warn(\n"
     ]
    }
   ],
   "source": [
    "x=lr.predict([[17,4,8,1,8,8,0,1]])\n",
    "print(x)"
   ]
  },
  {
   "cell_type": "code",
   "execution_count": 56,
   "metadata": {},
   "outputs": [
    {
     "name": "stdout",
     "output_type": "stream",
     "text": [
      "Accuracy: 0.37987012987012986\n"
     ]
    }
   ],
   "source": [
    "from sklearn.metrics import  accuracy_score\n",
    "print(\"Accuracy:\",accuracy_score(test_labels,a))"
   ]
  },
  {
   "cell_type": "code",
   "execution_count": 57,
   "metadata": {},
   "outputs": [],
   "source": [
    "from sklearn.ensemble import RandomForestClassifier\n",
    "\n",
    "#Create a Gaussian Classifier\n",
    "clf=RandomForestClassifier(n_estimators=200)\n",
    "\n",
    "#Train the model using the training sets \n",
    "clf.fit(train_features, train_labels)\n",
    "\n",
    "y_pred=clf.predict(test_features)"
   ]
  },
  {
   "cell_type": "code",
   "execution_count": 58,
   "metadata": {},
   "outputs": [
    {
     "name": "stdout",
     "output_type": "stream",
     "text": [
      "Accuracy: 0.3246753246753247\n"
     ]
    }
   ],
   "source": [
    "from sklearn import metrics\n",
    "\n",
    "print(\"Accuracy:\",metrics.accuracy_score(test_labels, y_pred))"
   ]
  },
  {
   "cell_type": "code",
   "execution_count": 59,
   "metadata": {},
   "outputs": [
    {
     "ename": "ValueError",
     "evalue": "Invalid classes inferred from unique values of `y`.  Expected: [0 1 2 3 4], got ['dependable' 'extraverted' 'lively' 'responsible' 'serious']",
     "output_type": "error",
     "traceback": [
      "\u001b[1;31m---------------------------------------------------------------------------\u001b[0m",
      "\u001b[1;31mValueError\u001b[0m                                Traceback (most recent call last)",
      "\u001b[1;32mc:\\Users\\User\\Documents\\Projects\\Devang\\DMADM-CP\\dmadmcp.ipynb Cell 36'\u001b[0m in \u001b[0;36m<cell line: 12>\u001b[1;34m()\u001b[0m\n\u001b[0;32m      <a href='vscode-notebook-cell:/c%3A/Users/User/Documents/Projects/Devang/DMADM-CP/dmadmcp.ipynb#ch0000035?line=2'>3</a>\u001b[0m \u001b[39mfrom\u001b[39;00m \u001b[39mxgboost\u001b[39;00m \u001b[39mimport\u001b[39;00m XGBClassifier\n\u001b[0;32m      <a href='vscode-notebook-cell:/c%3A/Users/User/Documents/Projects/Devang/DMADM-CP/dmadmcp.ipynb#ch0000035?line=4'>5</a>\u001b[0m xgb \u001b[39m=\u001b[39m XGBClassifier(base_score\u001b[39m=\u001b[39m\u001b[39m0.5\u001b[39m, booster\u001b[39m=\u001b[39m\u001b[39m'\u001b[39m\u001b[39mgbtree\u001b[39m\u001b[39m'\u001b[39m, colsample_bylevel\u001b[39m=\u001b[39m\u001b[39m1\u001b[39m,  colsample_bynode\u001b[39m=\u001b[39m\u001b[39m1\u001b[39m, colsample_bytree\u001b[39m=\u001b[39m\u001b[39m0.4\u001b[39m, gamma\u001b[39m=\u001b[39m\u001b[39m0.2\u001b[39m,\n\u001b[0;32m      <a href='vscode-notebook-cell:/c%3A/Users/User/Documents/Projects/Devang/DMADM-CP/dmadmcp.ipynb#ch0000035?line=5'>6</a>\u001b[0m                     learning_rate\u001b[39m=\u001b[39m\u001b[39m0.1\u001b[39m, max_delta_step\u001b[39m=\u001b[39m\u001b[39m0\u001b[39m, max_depth\u001b[39m=\u001b[39m\u001b[39m15\u001b[39m,\n\u001b[0;32m      <a href='vscode-notebook-cell:/c%3A/Users/User/Documents/Projects/Devang/DMADM-CP/dmadmcp.ipynb#ch0000035?line=6'>7</a>\u001b[0m                     min_child_weight\u001b[39m=\u001b[39m\u001b[39m1\u001b[39m, missing\u001b[39m=\u001b[39m\u001b[39m1\u001b[39m, n_estimators\u001b[39m=\u001b[39m\u001b[39m100\u001b[39m, n_jobs\u001b[39m=\u001b[39m\u001b[39m1\u001b[39m,\n\u001b[0;32m      <a href='vscode-notebook-cell:/c%3A/Users/User/Documents/Projects/Devang/DMADM-CP/dmadmcp.ipynb#ch0000035?line=7'>8</a>\u001b[0m                     nthread\u001b[39m=\u001b[39m\u001b[39mNone\u001b[39;00m, objective\u001b[39m=\u001b[39m\u001b[39m'\u001b[39m\u001b[39mbinary:logistic\u001b[39m\u001b[39m'\u001b[39m, random_state\u001b[39m=\u001b[39m\u001b[39m23\u001b[39m,\n\u001b[0;32m      <a href='vscode-notebook-cell:/c%3A/Users/User/Documents/Projects/Devang/DMADM-CP/dmadmcp.ipynb#ch0000035?line=8'>9</a>\u001b[0m                     reg_alpha\u001b[39m=\u001b[39m\u001b[39m0\u001b[39m, reg_lambda\u001b[39m=\u001b[39m\u001b[39m1\u001b[39m, scale_pos_weight\u001b[39m=\u001b[39m\u001b[39m1\u001b[39m, seed\u001b[39m=\u001b[39m\u001b[39mNone\u001b[39;00m,\n\u001b[0;32m     <a href='vscode-notebook-cell:/c%3A/Users/User/Documents/Projects/Devang/DMADM-CP/dmadmcp.ipynb#ch0000035?line=9'>10</a>\u001b[0m                     silent\u001b[39m=\u001b[39m\u001b[39mNone\u001b[39;00m, subsample\u001b[39m=\u001b[39m\u001b[39m1\u001b[39m, verbosity\u001b[39m=\u001b[39m\u001b[39m1\u001b[39m, use_label_encoder\u001b[39m=\u001b[39m\u001b[39mFalse\u001b[39;00m)\n\u001b[1;32m---> <a href='vscode-notebook-cell:/c%3A/Users/User/Documents/Projects/Devang/DMADM-CP/dmadmcp.ipynb#ch0000035?line=11'>12</a>\u001b[0m xgb\u001b[39m.\u001b[39;49mfit(train_features, train_labels)\n\u001b[0;32m     <a href='vscode-notebook-cell:/c%3A/Users/User/Documents/Projects/Devang/DMADM-CP/dmadmcp.ipynb#ch0000035?line=12'>13</a>\u001b[0m y_pred \u001b[39m=\u001b[39m xgb\u001b[39m.\u001b[39mpredict(test_features)\n",
      "File \u001b[1;32mc:\\Python310\\lib\\site-packages\\xgboost\\core.py:532\u001b[0m, in \u001b[0;36m_deprecate_positional_args.<locals>.inner_f\u001b[1;34m(*args, **kwargs)\u001b[0m\n\u001b[0;32m    <a href='file:///c%3A/Python310/lib/site-packages/xgboost/core.py?line=529'>530</a>\u001b[0m \u001b[39mfor\u001b[39;00m k, arg \u001b[39min\u001b[39;00m \u001b[39mzip\u001b[39m(sig\u001b[39m.\u001b[39mparameters, args):\n\u001b[0;32m    <a href='file:///c%3A/Python310/lib/site-packages/xgboost/core.py?line=530'>531</a>\u001b[0m     kwargs[k] \u001b[39m=\u001b[39m arg\n\u001b[1;32m--> <a href='file:///c%3A/Python310/lib/site-packages/xgboost/core.py?line=531'>532</a>\u001b[0m \u001b[39mreturn\u001b[39;00m f(\u001b[39m*\u001b[39m\u001b[39m*\u001b[39mkwargs)\n",
      "File \u001b[1;32mc:\\Python310\\lib\\site-packages\\xgboost\\sklearn.py:1357\u001b[0m, in \u001b[0;36mXGBClassifier.fit\u001b[1;34m(self, X, y, sample_weight, base_margin, eval_set, eval_metric, early_stopping_rounds, verbose, xgb_model, sample_weight_eval_set, base_margin_eval_set, feature_weights, callbacks)\u001b[0m\n\u001b[0;32m   <a href='file:///c%3A/Python310/lib/site-packages/xgboost/sklearn.py?line=1351'>1352</a>\u001b[0m     expected_classes \u001b[39m=\u001b[39m np\u001b[39m.\u001b[39marange(\u001b[39mself\u001b[39m\u001b[39m.\u001b[39mn_classes_)\n\u001b[0;32m   <a href='file:///c%3A/Python310/lib/site-packages/xgboost/sklearn.py?line=1352'>1353</a>\u001b[0m \u001b[39mif\u001b[39;00m (\n\u001b[0;32m   <a href='file:///c%3A/Python310/lib/site-packages/xgboost/sklearn.py?line=1353'>1354</a>\u001b[0m     \u001b[39mself\u001b[39m\u001b[39m.\u001b[39mclasses_\u001b[39m.\u001b[39mshape \u001b[39m!=\u001b[39m expected_classes\u001b[39m.\u001b[39mshape\n\u001b[0;32m   <a href='file:///c%3A/Python310/lib/site-packages/xgboost/sklearn.py?line=1354'>1355</a>\u001b[0m     \u001b[39mor\u001b[39;00m \u001b[39mnot\u001b[39;00m (\u001b[39mself\u001b[39m\u001b[39m.\u001b[39mclasses_ \u001b[39m==\u001b[39m expected_classes)\u001b[39m.\u001b[39mall()\n\u001b[0;32m   <a href='file:///c%3A/Python310/lib/site-packages/xgboost/sklearn.py?line=1355'>1356</a>\u001b[0m ):\n\u001b[1;32m-> <a href='file:///c%3A/Python310/lib/site-packages/xgboost/sklearn.py?line=1356'>1357</a>\u001b[0m     \u001b[39mraise\u001b[39;00m \u001b[39mValueError\u001b[39;00m(\n\u001b[0;32m   <a href='file:///c%3A/Python310/lib/site-packages/xgboost/sklearn.py?line=1357'>1358</a>\u001b[0m         \u001b[39mf\u001b[39m\u001b[39m\"\u001b[39m\u001b[39mInvalid classes inferred from unique values of `y`.  \u001b[39m\u001b[39m\"\u001b[39m\n\u001b[0;32m   <a href='file:///c%3A/Python310/lib/site-packages/xgboost/sklearn.py?line=1358'>1359</a>\u001b[0m         \u001b[39mf\u001b[39m\u001b[39m\"\u001b[39m\u001b[39mExpected: \u001b[39m\u001b[39m{\u001b[39;00mexpected_classes\u001b[39m}\u001b[39;00m\u001b[39m, got \u001b[39m\u001b[39m{\u001b[39;00m\u001b[39mself\u001b[39m\u001b[39m.\u001b[39mclasses_\u001b[39m}\u001b[39;00m\u001b[39m\"\u001b[39m\n\u001b[0;32m   <a href='file:///c%3A/Python310/lib/site-packages/xgboost/sklearn.py?line=1359'>1360</a>\u001b[0m     )\n\u001b[0;32m   <a href='file:///c%3A/Python310/lib/site-packages/xgboost/sklearn.py?line=1361'>1362</a>\u001b[0m params \u001b[39m=\u001b[39m \u001b[39mself\u001b[39m\u001b[39m.\u001b[39mget_xgb_params()\n\u001b[0;32m   <a href='file:///c%3A/Python310/lib/site-packages/xgboost/sklearn.py?line=1363'>1364</a>\u001b[0m \u001b[39mif\u001b[39;00m callable(\u001b[39mself\u001b[39m\u001b[39m.\u001b[39mobjective):\n",
      "\u001b[1;31mValueError\u001b[0m: Invalid classes inferred from unique values of `y`.  Expected: [0 1 2 3 4], got ['dependable' 'extraverted' 'lively' 'responsible' 'serious']"
     ]
    }
   ],
   "source": [
    "# XG Boost Classifier\n",
    "\n",
    "from xgboost import XGBClassifier\n",
    "\n",
    "xgb = XGBClassifier(base_score=0.5, booster='gbtree', colsample_bylevel=1,  colsample_bynode=1, colsample_bytree=0.4, gamma=0.2,\n",
    "                    learning_rate=0.1, max_delta_step=0, max_depth=15,\n",
    "                    min_child_weight=1, missing=1, n_estimators=100, n_jobs=1,\n",
    "                    nthread=None, objective='binary:logistic', random_state=23,\n",
    "                    reg_alpha=0, reg_lambda=1, scale_pos_weight=1, seed=None,\n",
    "                    silent=None, subsample=1, verbosity=1, use_label_encoder=False)\n",
    "\n",
    "xgb.fit(train_features, train_labels)\n",
    "y_pred = xgb.predict(test_features)"
   ]
  },
  {
   "cell_type": "code",
   "execution_count": null,
   "metadata": {},
   "outputs": [],
   "source": [
    "from sklearn import metrics\n",
    "\n",
    "print(\"Accuracy:\",metrics.accuracy_score(test_labels, y_pred))"
   ]
  }
 ],
 "metadata": {
  "interpreter": {
   "hash": "369f2c481f4da34e4445cda3fffd2e751bd1c4d706f27375911949ba6bb62e1c"
  },
  "kernelspec": {
   "display_name": "Python 3.10.4 64-bit",
   "language": "python",
   "name": "python3"
  },
  "language_info": {
   "codemirror_mode": {
    "name": "ipython",
    "version": 3
   },
   "file_extension": ".py",
   "mimetype": "text/x-python",
   "name": "python",
   "nbconvert_exporter": "python",
   "pygments_lexer": "ipython3",
   "version": "3.10.4"
  }
 },
 "nbformat": 4,
 "nbformat_minor": 2
}
